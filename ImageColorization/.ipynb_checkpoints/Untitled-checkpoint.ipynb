{
 "cells": [
  {
   "cell_type": "code",
   "execution_count": null,
   "id": "51857d2f",
   "metadata": {},
   "outputs": [],
   "source": [
    "import pickle"
   ]
  },
  {
   "cell_type": "code",
   "execution_count": null,
   "id": "01f7691f",
   "metadata": {},
   "outputs": [],
   "source": [
    "with open('coco_fileDict.p', 'rb') as f:\n",
    "    data = pickle.load(f)"
   ]
  },
  {
   "cell_type": "code",
   "execution_count": null,
   "id": "fbc50bb3",
   "metadata": {},
   "outputs": [],
   "source": [
    "new_data = {'train': [], 'val': [], 'test': []}"
   ]
  },
  {
   "cell_type": "code",
   "execution_count": null,
   "id": "a357983c",
   "metadata": {},
   "outputs": [],
   "source": [
    "new_data"
   ]
  },
  {
   "cell_type": "code",
   "execution_count": null,
   "id": "0cb6b442",
   "metadata": {},
   "outputs": [],
   "source": [
    "data"
   ]
  },
  {
   "cell_type": "code",
   "execution_count": null,
   "id": "0bedf91d",
   "metadata": {},
   "outputs": [],
   "source": [
    "from tqdm.notebook import tqdm"
   ]
  },
  {
   "cell_type": "code",
   "execution_count": null,
   "id": "611737ac",
   "metadata": {},
   "outputs": [],
   "source": [
    "for x in new_data.keys():\n",
    "    for i in tqdm(list(data[x])):\n",
    "        path = i.split('/')[4:]\n",
    "        path.insert(0, './data')\n",
    "        new_data[x].append('/'.join(path))"
   ]
  },
  {
   "cell_type": "code",
   "execution_count": null,
   "id": "707912ea",
   "metadata": {},
   "outputs": [],
   "source": [
    "new_data"
   ]
  },
  {
   "cell_type": "code",
   "execution_count": null,
   "id": "d2d05e00",
   "metadata": {},
   "outputs": [],
   "source": [
    "for x in new_data.values():\n",
    "    print(len(x))"
   ]
  },
  {
   "cell_type": "code",
   "execution_count": null,
   "id": "8621c8c3",
   "metadata": {},
   "outputs": [],
   "source": [
    "for x in data.values():\n",
    "    print(len(x))"
   ]
  },
  {
   "cell_type": "code",
   "execution_count": null,
   "id": "d14e39a1",
   "metadata": {},
   "outputs": [],
   "source": [
    "%rm coco_fileDict.p"
   ]
  },
  {
   "cell_type": "code",
   "execution_count": null,
   "id": "d502a13f",
   "metadata": {},
   "outputs": [],
   "source": [
    "with open('./coco_fileDict.p', 'wb') as f:\n",
    "    pickle.dump(new_data, f)"
   ]
  },
  {
   "cell_type": "code",
   "execution_count": null,
   "id": "4dd5af6d",
   "metadata": {},
   "outputs": [],
   "source": [
    "with open('./coco_fileDict.p', 'rb') as f:\n",
    "    k = pickle.load(f)"
   ]
  },
  {
   "cell_type": "code",
   "execution_count": null,
   "id": "3f6e9059",
   "metadata": {},
   "outputs": [],
   "source": [
    "k"
   ]
  },
  {
   "cell_type": "code",
   "execution_count": null,
   "id": "8d10173c",
   "metadata": {},
   "outputs": [],
   "source": []
  }
 ],
 "metadata": {
  "environment": {
   "name": "pytorch-gpu.1-8.m68",
   "type": "gcloud",
   "uri": "gcr.io/deeplearning-platform-release/pytorch-gpu.1-8:m68"
  },
  "kernelspec": {
   "display_name": "Python [conda env:root] *",
   "language": "python",
   "name": "conda-root-py"
  },
  "language_info": {
   "codemirror_mode": {
    "name": "ipython",
    "version": 3
   },
   "file_extension": ".py",
   "mimetype": "text/x-python",
   "name": "python",
   "nbconvert_exporter": "python",
   "pygments_lexer": "ipython3",
   "version": "3.7.10"
  }
 },
 "nbformat": 4,
 "nbformat_minor": 5
}
