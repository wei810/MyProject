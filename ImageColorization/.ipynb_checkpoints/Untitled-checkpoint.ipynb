{
 "cells": [
  {
   "cell_type": "code",
   "execution_count": null,
   "id": "57b16ad4",
   "metadata": {},
   "outputs": [],
   "source": [
    "import pickle"
   ]
  },
  {
   "cell_type": "code",
   "execution_count": null,
   "id": "27c2841b",
   "metadata": {},
   "outputs": [],
   "source": [
    "with open('coco_fileDict.p', 'rb') as f:\n",
    "    data = pickle.load(f)"
   ]
  },
  {
   "cell_type": "code",
   "execution_count": null,
   "id": "525ffd6b",
   "metadata": {},
   "outputs": [],
   "source": [
    "new_data = {'train': [], 'val': [], 'test': []}"
   ]
  },
  {
   "cell_type": "code",
   "execution_count": null,
   "id": "ecaf0017",
   "metadata": {},
   "outputs": [],
   "source": [
    "new_data"
   ]
  },
  {
   "cell_type": "code",
   "execution_count": null,
   "id": "c6b7af33",
   "metadata": {},
   "outputs": [],
   "source": [
    "data"
   ]
  },
  {
   "cell_type": "code",
   "execution_count": null,
   "id": "96bc6814",
   "metadata": {},
   "outputs": [],
   "source": [
    "from tqdm.notebook import tqdm"
   ]
  },
  {
   "cell_type": "code",
   "execution_count": null,
   "id": "88dd5d0b",
   "metadata": {},
   "outputs": [],
   "source": [
    "for x in new_data.keys():\n",
    "    for i in tqdm(list(data[x])):\n",
    "        path = i.split('/')[4:]\n",
    "        path.insert(0, './data')\n",
    "        new_data[x].append(i)"
   ]
  },
  {
   "cell_type": "code",
   "execution_count": null,
   "id": "c78b0587",
   "metadata": {},
   "outputs": [],
   "source": [
    "for x in new_data.values():\n",
    "    print(len(x))"
   ]
  },
  {
   "cell_type": "code",
   "execution_count": null,
   "id": "2519d964",
   "metadata": {},
   "outputs": [],
   "source": [
    "for x in data.values():\n",
    "    print(len(x))"
   ]
  },
  {
   "cell_type": "code",
   "execution_count": null,
   "id": "7e6ff1e1",
   "metadata": {},
   "outputs": [],
   "source": [
    "%rm coco_fileDict.p"
   ]
  },
  {
   "cell_type": "code",
   "execution_count": null,
   "id": "4328409a",
   "metadata": {},
   "outputs": [],
   "source": [
    "with open('./coco_fileDict.p', 'wb') as f:\n",
    "    pickle.dump(new_data, f)"
   ]
  },
  {
   "cell_type": "code",
   "execution_count": null,
   "id": "c002a1e7",
   "metadata": {},
   "outputs": [],
   "source": [
    "with open('coco_fileDict.p', 'rb') as f:\n",
    "    k = pickle.load(f)"
   ]
  },
  {
   "cell_type": "code",
   "execution_count": null,
   "id": "148a7adc",
   "metadata": {},
   "outputs": [],
   "source": [
    "k"
   ]
  },
  {
   "cell_type": "code",
   "execution_count": null,
   "id": "fbe03c8a",
   "metadata": {},
   "outputs": [],
   "source": []
  }
 ],
 "metadata": {
  "environment": {
   "name": "pytorch-gpu.1-8.m68",
   "type": "gcloud",
   "uri": "gcr.io/deeplearning-platform-release/pytorch-gpu.1-8:m68"
  },
  "kernelspec": {
   "display_name": "Python [conda env:root] *",
   "language": "python",
   "name": "conda-root-py"
  },
  "language_info": {
   "codemirror_mode": {
    "name": "ipython",
    "version": 3
   },
   "file_extension": ".py",
   "mimetype": "text/x-python",
   "name": "python",
   "nbconvert_exporter": "python",
   "pygments_lexer": "ipython3",
   "version": "3.7.10"
  }
 },
 "nbformat": 4,
 "nbformat_minor": 5
}
