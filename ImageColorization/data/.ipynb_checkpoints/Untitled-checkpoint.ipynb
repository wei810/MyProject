{
 "cells": [],
 "metadata": {
  "environment": {
   "name": "pytorch-gpu.1-8.m68",
   "type": "gcloud",
   "uri": "gcr.io/deeplearning-platform-release/pytorch-gpu.1-8:m68"
  }
 },
 "nbformat": 4,
 "nbformat_minor": 5
}
