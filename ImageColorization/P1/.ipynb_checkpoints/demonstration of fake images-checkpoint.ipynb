{
 "cells": [
  {
   "cell_type": "code",
   "execution_count": null,
   "metadata": {},
   "outputs": [],
   "source": [
    "from glob import glob\n",
    "from PIL import Image\n",
    "import torch\n",
    "from torchvision.utils import make_grid\n",
    "from torchvision.transforms import ToPILImage\n",
    "import numpy as np\n",
    "from tqdm.notebook import tqdm\n",
    "from matplotlib import pyplot as plt"
   ]
  },
  {
   "cell_type": "code",
   "execution_count": null,
   "metadata": {},
   "outputs": [],
   "source": [
    "def display_result_real_fake(real, fake):\n",
    "    fig, axs = plt.subplots(1, 2, figsize=(24, 18), dpi=200)\n",
    "    axs[0].imshow(np.array(ToPILImage()(make_grid(fake))))\n",
    "    axs[0].set_title('fake')\n",
    "    axs[1].imshow(np.array(ToPILImage()(make_grid(real))))\n",
    "    axs[1].set_title('real')\n",
    "    plt.show()"
   ]
  },
  {
   "cell_type": "code",
   "execution_count": null,
   "metadata": {},
   "outputs": [],
   "source": [
    "size = (128, 128)\n",
    "bs = 64\n",
    "for phase in ['Test']:\n",
    "    print(phase)\n",
    "    source_path = f'./source_images/{size[0]}/' + phase\n",
    "    target_path = f'./target_images/{size[0]}/' + phase\n",
    "    i = 0\n",
    "    stop = False\n",
    "    while True:\n",
    "        fn_range = (i*bs, (i + 1)*bs)\n",
    "        source_files = []\n",
    "        target_files = []\n",
    "        for x in range(*fn_range):\n",
    "            try:\n",
    "                source_files.append(np.array(Image.open(f'{source_path}/{x}.jpg')))\n",
    "                target_files.append(np.array(Image.open(f'{target_path}/{x}.jpg')))\n",
    "            except:\n",
    "                stop = True\n",
    "                break\n",
    "        source_files = [torch.from_numpy(x).permute(2, 0, 1) for x in source_files]\n",
    "        target_files = [torch.from_numpy(x).permute(2, 0, 1) for x in target_files]\n",
    "        display_result_real_fake(target_files, source_files)\n",
    "        if stop:\n",
    "            break\n",
    "        i += 1"
   ]
  },
  {
   "cell_type": "code",
   "execution_count": null,
   "metadata": {},
   "outputs": [],
   "source": [
    "size = (128, 128)\n",
    "bs = 64\n",
    "for phase in ['Test']:\n",
    "    print(phase)\n",
    "    source_path = f'./source_images_deoldify/{size[0]}/' + phase\n",
    "    target_path = f'./target_images_deoldify/{size[0]}/' + phase\n",
    "    i = 0\n",
    "    stop = False\n",
    "    while True:\n",
    "        fn_range = (i*bs, (i + 1)*bs)\n",
    "        source_files = []\n",
    "        target_files = []\n",
    "        for x in range(*fn_range):\n",
    "            try:\n",
    "                source_files.append(np.array(Image.open(f'{source_path}/{x}.jpg')))\n",
    "                target_files.append(np.array(Image.open(f'{target_path}/{x}.jpg')))\n",
    "            except:\n",
    "                stop = True\n",
    "                break\n",
    "        source_files = [torch.from_numpy(x).permute(2, 0, 1) for x in source_files]\n",
    "        target_files = [torch.from_numpy(x).permute(2, 0, 1) for x in target_files]\n",
    "        display_result_real_fake(target_files, source_files)\n",
    "        if stop:\n",
    "            break\n",
    "        i += 1"
   ]
  },
  {
   "cell_type": "code",
   "execution_count": null,
   "metadata": {},
   "outputs": [],
   "source": []
  }
 ],
 "metadata": {
  "environment": {
   "name": "pytorch-gpu.1-8.m68",
   "type": "gcloud",
   "uri": "gcr.io/deeplearning-platform-release/pytorch-gpu.1-8:m68"
  },
  "kernelspec": {
   "display_name": "Python 3",
   "language": "python",
   "name": "python3"
  },
  "language_info": {
   "codemirror_mode": {
    "name": "ipython",
    "version": 3
   },
   "file_extension": ".py",
   "mimetype": "text/x-python",
   "name": "python",
   "nbconvert_exporter": "python",
   "pygments_lexer": "ipython3",
   "version": "3.7.10"
  }
 },
 "nbformat": 4,
 "nbformat_minor": 4
}
